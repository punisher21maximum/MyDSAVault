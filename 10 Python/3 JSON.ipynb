{
 "cells": [
  {
   "cell_type": "markdown",
   "metadata": {},
   "source": [
    "JSON\n",
    "\n",
    "import json\n",
    "\n",
    "JSON Format"
   ]
  },
  {
   "cell_type": "code",
   "execution_count": null,
   "metadata": {},
   "outputs": [],
   "source": [
    "{\n",
    "    \"firstName\": \"Jane\",\n",
    "    \"lastName\": \"Doe\",\n",
    "    \"hobbies\": [\"running\", \"swimming\", \"singing\"],\n",
    "    \"age\": 28,\n",
    "    \"children\": [\n",
    "        {\n",
    "            \"firstName\": \"Alex\",\n",
    "            \"age\": 5\n",
    "        },\n",
    "        {\n",
    "            \"firstName\": \"Bob\",\n",
    "            \"age\": 7\n",
    "        }\n",
    "    ]\n",
    "}"
   ]
  },
  {
   "cell_type": "markdown",
   "metadata": {},
   "source": [
    "\n",
    "Python\tJSON\n",
    "\n",
    "dict\tobject\n",
    "\n",
    "list, tuple\tarray\n",
    "\n",
    "str\tstring\n",
    "\n",
    "int, long, float\tnumber\n",
    "\n",
    "True\ttrue\n",
    "\n",
    "False\tfalse\n",
    "\n",
    "None\tnull"
   ]
  },
  {
   "cell_type": "markdown",
   "metadata": {},
   "source": [
    "### From Python to JSON (Serialization, Encode)"
   ]
  },
  {
   "cell_type": "markdown",
   "metadata": {},
   "source": [
    "Convert Python objects into a JSON string with the json.dumps() method."
   ]
  },
  {
   "cell_type": "code",
   "execution_count": 4,
   "metadata": {},
   "outputs": [
    {
     "name": "stdout",
     "output_type": "stream",
     "text": [
      "{\n",
      "    \"name\": \"John\",\n",
      "    \"age\": 30,\n",
      "    \"city\": \"New York\",\n",
      "    \"hasChildren\": false,\n",
      "    \"titles\": [\n",
      "        \"engineer\",\n",
      "        \"programmer\"\n",
      "    ]\n",
      "}\n",
      "{\n",
      "    \"age\"= 30; \n",
      "    \"city\"= \"New York\"; \n",
      "    \"hasChildren\"= false; \n",
      "    \"name\"= \"John\"; \n",
      "    \"titles\"= [\n",
      "        \"engineer\"; \n",
      "        \"programmer\"\n",
      "    ]\n",
      "}\n"
     ]
    }
   ],
   "source": [
    "import json\n",
    "\n",
    "person = {\"name\": \"John\", \n",
    "\"age\": 30, \n",
    "\"city\": \"New York\", \n",
    "\"hasChildren\": False, \n",
    "\"titles\": [\"engineer\", \"programmer\"]\n",
    "}\n",
    "\n",
    "# convert to json\n",
    "personJson = json.dumps(person, indent=4)\n",
    "# use diff formatting style\n",
    "personJson2 = json.dumps(person, indent=4, separators=(\"; \", \"= \"), sort_keys=True)\n",
    "\n",
    "# result\n",
    "print(personJson)\n",
    "print(personJson2)"
   ]
  },
  {
   "cell_type": "markdown",
   "metadata": {},
   "source": [
    "##### Or convert Python objects into JSON objects and save them into a file with the json.dump() method."
   ]
  },
  {
   "cell_type": "code",
   "execution_count": 5,
   "metadata": {},
   "outputs": [],
   "source": [
    "person = {\"name\": \"John\", \"age\": 30, \"city\": \"New York\", \"hasChildren\": False, \"titles\": [\"engineer\", \"programmer\"]}\n",
    "\n",
    "with open('person.json', 'w') as f:\n",
    "    json.dump(person, f)"
   ]
  },
  {
   "cell_type": "markdown",
   "metadata": {},
   "source": [
    "##### FROM JSON to Python (Deserialization, Decode)"
   ]
  },
  {
   "cell_type": "markdown",
   "metadata": {},
   "source": [
    "###### Convert a JSON string into a Python object with the json.loads() method. The result will be a Python dictionary"
   ]
  },
  {
   "cell_type": "code",
   "execution_count": 8,
   "metadata": {},
   "outputs": [
    {
     "name": "stdout",
     "output_type": "stream",
     "text": [
      "{'age': 30, 'city': 'New York', 'hasChildren': False, 'name': 'John', 'titles': ['engineer', 'programmer']}\n"
     ]
    }
   ],
   "source": [
    "import json\n",
    "person_json = \"\"\"\n",
    "{\n",
    "    \"age\": 30, \n",
    "    \"city\": \"New York\",\n",
    "    \"hasChildren\": false, \n",
    "    \"name\": \"John\",\n",
    "    \"titles\": [\n",
    "        \"engineer\",\n",
    "        \"programmer\"\n",
    "    ]\n",
    "}\n",
    "\"\"\"\n",
    "person = json.loads(person_json)\n",
    "print(person)"
   ]
  },
  {
   "cell_type": "markdown",
   "metadata": {},
   "source": [
    "###### Or load data from a file and convert it to a Python object with the json.load() method."
   ]
  },
  {
   "cell_type": "code",
   "execution_count": 9,
   "metadata": {},
   "outputs": [
    {
     "name": "stdout",
     "output_type": "stream",
     "text": [
      "{'name': 'John', 'age': 30, 'city': 'New York', 'hasChildren': False, 'titles': ['engineer', 'programmer']}\n"
     ]
    }
   ],
   "source": [
    "import json\n",
    "\n",
    "with open('person.json', 'r') as f:\n",
    "    person = json.load(f)\n",
    "    print(person)"
   ]
  },
  {
   "cell_type": "markdown",
   "metadata": {},
   "source": [
    "| From   | To | cmd |\n",
    "|---\t|---\t|---\t|\n",
    "| py dict    | json object | json.dumps(pyDict) |\n",
    "| py dict     | json file   | json.dump(pyDict, fileHandler) |\n",
    "| json object | py dict     | json.loads(jsonObjAsString) |\n",
    "| json file   | py dict     | json.load(jsonFile) |"
   ]
  },
  {
   "cell_type": "markdown",
   "metadata": {},
   "source": []
  }
 ],
 "metadata": {
  "interpreter": {
   "hash": "63fd5069d213b44bf678585dea6b12cceca9941eaf7f819626cde1f2670de90d"
  },
  "kernelspec": {
   "display_name": "Python 3.9.1 64-bit",
   "language": "python",
   "name": "python3"
  },
  "language_info": {
   "codemirror_mode": {
    "name": "ipython",
    "version": 3
   },
   "file_extension": ".py",
   "mimetype": "text/x-python",
   "name": "python",
   "nbconvert_exporter": "python",
   "pygments_lexer": "ipython3",
   "version": "3.9.1"
  },
  "orig_nbformat": 4
 },
 "nbformat": 4,
 "nbformat_minor": 2
}
