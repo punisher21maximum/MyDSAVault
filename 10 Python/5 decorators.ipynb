{
 "cells": [
  {
   "cell_type": "markdown",
   "metadata": {},
   "source": [
    "### Decorators"
   ]
  },
  {
   "cell_type": "markdown",
   "metadata": {},
   "source": [
    "##### Implementing decorators"
   ]
  },
  {
   "cell_type": "code",
   "execution_count": 3,
   "metadata": {},
   "outputs": [
    {
     "name": "stdout",
     "output_type": "stream",
     "text": [
      "Start\n",
      "Steve Rogers\n",
      "End\n"
     ]
    }
   ],
   "source": [
    "def startEndDecorator(func):\n",
    "\n",
    "    def wrapper():\n",
    "        print(\"Start\")\n",
    "        func()\n",
    "        print(\"End\")\n",
    "    return wrapper\n",
    "\n",
    "def printName():\n",
    "    print(\"Steve Rogers\")\n",
    "\n",
    "printName = startEndDecorator(printName)\n",
    "\n",
    "printName()"
   ]
  },
  {
   "cell_type": "code",
   "execution_count": 4,
   "metadata": {},
   "outputs": [
    {
     "name": "stdout",
     "output_type": "stream",
     "text": [
      "Start\n",
      "Steve Rogers\n",
      "End\n"
     ]
    }
   ],
   "source": [
    "def startEndDecorator(func):\n",
    "\n",
    "    def wrapper():\n",
    "        print(\"Start\")\n",
    "        func()\n",
    "        print(\"End\")\n",
    "    return wrapper\n",
    "\n",
    "@startEndDecorator\n",
    "def printName():\n",
    "    print(\"Steve Rogers\")\n",
    "\n",
    "# printName = startEndDecorator(printName)\n",
    "\n",
    "printName()"
   ]
  },
  {
   "cell_type": "markdown",
   "metadata": {},
   "source": [
    "Here we can see we are extending the\n",
    "functionality of printName function.\n",
    "\n",
    "When we use decorators, we pass our \n",
    "base function (here printName)\n",
    "to decorator function.\n",
    "Then decorator function returns a new\n",
    "base function which replaces our \n",
    "original function.\n",
    "As we pass base function to decorator,\n",
    "we can call it in new base function.\n",
    "Also we need to keep the args of old\n",
    "and new base functions."
   ]
  },
  {
   "cell_type": "markdown",
   "metadata": {},
   "source": [
    "### Keeping same arguments in old and new base function"
   ]
  },
  {
   "cell_type": "code",
   "execution_count": 11,
   "metadata": {},
   "outputs": [
    {
     "name": "stdout",
     "output_type": "stream",
     "text": [
      "Start\n",
      "Good Morning Steve Rogers\n",
      "End\n"
     ]
    }
   ],
   "source": [
    "def startEndDecorator(func):\n",
    "\n",
    "    def wrapper(*args, **kwargs):\n",
    "        print(\"Start\")\n",
    "        func(*args, **kwargs)\n",
    "        print(\"End\")\n",
    "    return wrapper\n",
    "\n",
    "@startEndDecorator\n",
    "def printName(salutation):\n",
    "    print(salutation + \" Steve Rogers\")\n",
    "\n",
    "# printName = startEndDecorator(printName)\n",
    "\n",
    "printName(\"Good Morning\")"
   ]
  },
  {
   "cell_type": "markdown",
   "metadata": {},
   "source": [
    "### Return from base func"
   ]
  },
  {
   "cell_type": "code",
   "execution_count": 13,
   "metadata": {},
   "outputs": [
    {
     "name": "stdout",
     "output_type": "stream",
     "text": [
      "Start\n",
      "End\n",
      "Good Morning Steve Rogers\n"
     ]
    }
   ],
   "source": [
    "def startEndDecorator(func):\n",
    "\n",
    "    def wrapper(*args, **kwargs):\n",
    "        print(\"Start\")\n",
    "        result = func(*args, **kwargs)\n",
    "        print(\"End\")\n",
    "        return result\n",
    "    return wrapper\n",
    "\n",
    "@startEndDecorator\n",
    "def printName(salutation):\n",
    "    return salutation + \" Steve Rogers\"\n",
    "\n",
    "# printName = startEndDecorator(printName)\n",
    "\n",
    "result = printName(\"Good Morning\")\n",
    "print(result)"
   ]
  },
  {
   "cell_type": "markdown",
   "metadata": {},
   "source": [
    "### Problem in function name"
   ]
  },
  {
   "cell_type": "markdown",
   "metadata": {},
   "source": []
  },
  {
   "cell_type": "code",
   "execution_count": 15,
   "metadata": {},
   "outputs": [
    {
     "name": "stdout",
     "output_type": "stream",
     "text": [
      "Start\n",
      "End\n",
      "wrapper\n"
     ]
    }
   ],
   "source": [
    "def startEndDecorator(func):\n",
    "\n",
    "    def wrapper(*args, **kwargs):\n",
    "        print(\"Start\")\n",
    "        result = func(*args, **kwargs)\n",
    "        print(\"End\")\n",
    "        return result\n",
    "    return wrapper\n",
    "\n",
    "@startEndDecorator\n",
    "def printName(salutation):\n",
    "    return salutation + \" Steve Rogers\"\n",
    "\n",
    "# printName = startEndDecorator(printName)\n",
    "\n",
    "result = printName(\"Good Morning\")\n",
    "print(printName.__name__)"
   ]
  }
 ],
 "metadata": {
  "interpreter": {
   "hash": "63fd5069d213b44bf678585dea6b12cceca9941eaf7f819626cde1f2670de90d"
  },
  "kernelspec": {
   "display_name": "Python 3.9.1 64-bit",
   "language": "python",
   "name": "python3"
  },
  "language_info": {
   "codemirror_mode": {
    "name": "ipython",
    "version": 3
   },
   "file_extension": ".py",
   "mimetype": "text/x-python",
   "name": "python",
   "nbconvert_exporter": "python",
   "pygments_lexer": "ipython3",
   "version": "3.9.1"
  },
  "orig_nbformat": 4
 },
 "nbformat": 4,
 "nbformat_minor": 2
}
