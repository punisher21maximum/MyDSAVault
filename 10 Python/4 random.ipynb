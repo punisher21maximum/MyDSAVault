{
 "cells": [
  {
   "cell_type": "markdown",
   "metadata": {},
   "source": []
  },
  {
   "cell_type": "code",
   "execution_count": null,
   "metadata": {},
   "outputs": [],
   "source": []
  },
  {
   "cell_type": "code",
   "execution_count": 22,
   "metadata": {},
   "outputs": [
    {
     "name": "stdout",
     "output_type": "stream",
     "text": [
      "0.8896847891538904\n",
      "1.7930627666578314\n",
      "4\n",
      "1\n",
      "3\n",
      "[3, 6, 2]\n",
      "[8, 1, 4]\n",
      "[5, 8, 2, 6, 1, 4, 7, 3]\n"
     ]
    }
   ],
   "source": [
    "import random\n",
    "\n",
    "print(random.random()) # float [0, 1)\n",
    "\n",
    "print(random.uniform(1, 10)) # float\n",
    "\n",
    "print(random.randint(1, 10)) # int [1, 10]\n",
    "\n",
    "print(random.randrange(1, 10)) # int [1, 10)\n",
    "\n",
    "print(random.choice([1,2,3,4])) # choose randome from iterator\n",
    "\n",
    "print(random.sample([1,2,3,4,5,6,7,8], 3)) # return k unique\n",
    "\n",
    "print(random.choices([1,2,3,4,5,6,7,8], k=3)) # return k non/unique\n",
    "\n",
    "k = [1,2,3,4,5,6,7,8]\n",
    "random.shuffle(k) # in-place shuffle\n",
    "print(k)"
   ]
  }
 ],
 "metadata": {
  "interpreter": {
   "hash": "63fd5069d213b44bf678585dea6b12cceca9941eaf7f819626cde1f2670de90d"
  },
  "kernelspec": {
   "display_name": "Python 3.9.1 64-bit",
   "language": "python",
   "name": "python3"
  },
  "language_info": {
   "codemirror_mode": {
    "name": "ipython",
    "version": 3
   },
   "file_extension": ".py",
   "mimetype": "text/x-python",
   "name": "python",
   "nbconvert_exporter": "python",
   "pygments_lexer": "ipython3",
   "version": "3.9.1"
  },
  "orig_nbformat": 4
 },
 "nbformat": 4,
 "nbformat_minor": 2
}
